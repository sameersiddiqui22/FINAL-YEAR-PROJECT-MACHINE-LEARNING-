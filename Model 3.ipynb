{
 "cells": [
  {
   "cell_type": "code",
   "execution_count": 1,
   "id": "f1376c2b",
   "metadata": {},
   "outputs": [],
   "source": [
    "import pandas as pd\n",
    "import numpy as np\n",
    "import matplotlib.pyplot as plt\n",
    "import matplotlib as mpl\n",
    "%matplotlib inline\n",
    "mpl.style.use('ggplot')"
   ]
  },
  {
   "cell_type": "code",
   "execution_count": 2,
   "id": "6c8282b2",
   "metadata": {},
   "outputs": [],
   "source": [
    "car=pd.read_csv('newbook11.csv')"
   ]
  },
  {
   "cell_type": "code",
   "execution_count": 3,
   "id": "8a03b05c",
   "metadata": {},
   "outputs": [
    {
     "data": {
      "text/html": [
       "<div>\n",
       "<style scoped>\n",
       "    .dataframe tbody tr th:only-of-type {\n",
       "        vertical-align: middle;\n",
       "    }\n",
       "\n",
       "    .dataframe tbody tr th {\n",
       "        vertical-align: top;\n",
       "    }\n",
       "\n",
       "    .dataframe thead th {\n",
       "        text-align: right;\n",
       "    }\n",
       "</style>\n",
       "<table border=\"1\" class=\"dataframe\">\n",
       "  <thead>\n",
       "    <tr style=\"text-align: right;\">\n",
       "      <th></th>\n",
       "      <th>name</th>\n",
       "      <th>company</th>\n",
       "      <th>year</th>\n",
       "      <th>Price</th>\n",
       "      <th>suspension</th>\n",
       "      <th>fuel_type</th>\n",
       "    </tr>\n",
       "  </thead>\n",
       "  <tbody>\n",
       "    <tr>\n",
       "      <th>0</th>\n",
       "      <td>Kia Picanto</td>\n",
       "      <td>Kia</td>\n",
       "      <td>2022</td>\n",
       "      <td>2186000</td>\n",
       "      <td>Manual</td>\n",
       "      <td>Petrol</td>\n",
       "    </tr>\n",
       "    <tr>\n",
       "      <th>1</th>\n",
       "      <td>Kia Picanto</td>\n",
       "      <td>Kia</td>\n",
       "      <td>2022</td>\n",
       "      <td>2292000</td>\n",
       "      <td>Automatic</td>\n",
       "      <td>Petrol</td>\n",
       "    </tr>\n",
       "    <tr>\n",
       "      <th>2</th>\n",
       "      <td>Kia Stonic EX</td>\n",
       "      <td>Kia</td>\n",
       "      <td>2022</td>\n",
       "      <td>3750000</td>\n",
       "      <td>Automatic</td>\n",
       "      <td>Petrol</td>\n",
       "    </tr>\n",
       "    <tr>\n",
       "      <th>3</th>\n",
       "      <td>Kia Stonic EX+</td>\n",
       "      <td>Kia</td>\n",
       "      <td>2022</td>\n",
       "      <td>3975000</td>\n",
       "      <td>Automatic</td>\n",
       "      <td>Petrol</td>\n",
       "    </tr>\n",
       "    <tr>\n",
       "      <th>4</th>\n",
       "      <td>Kia Sportage Alpha</td>\n",
       "      <td>Kia</td>\n",
       "      <td>2022</td>\n",
       "      <td>4764000</td>\n",
       "      <td>Automatic</td>\n",
       "      <td>Petrol</td>\n",
       "    </tr>\n",
       "    <tr>\n",
       "      <th>5</th>\n",
       "      <td>Kia Sportage AWD</td>\n",
       "      <td>Kia</td>\n",
       "      <td>2022</td>\n",
       "      <td>5276000</td>\n",
       "      <td>Automatic</td>\n",
       "      <td>Petrol</td>\n",
       "    </tr>\n",
       "    <tr>\n",
       "      <th>6</th>\n",
       "      <td>Kia Sportage FWD</td>\n",
       "      <td>Kia</td>\n",
       "      <td>2022</td>\n",
       "      <td>5800000</td>\n",
       "      <td>Automatic</td>\n",
       "      <td>Petrol</td>\n",
       "    </tr>\n",
       "    <tr>\n",
       "      <th>7</th>\n",
       "      <td>Kia Carnival GLS</td>\n",
       "      <td>Kia</td>\n",
       "      <td>2022</td>\n",
       "      <td>9199000</td>\n",
       "      <td>Automatic</td>\n",
       "      <td>Petrol</td>\n",
       "    </tr>\n",
       "    <tr>\n",
       "      <th>8</th>\n",
       "      <td>Kia Carnival GLS+</td>\n",
       "      <td>Kia</td>\n",
       "      <td>2022</td>\n",
       "      <td>9999000</td>\n",
       "      <td>Automatic</td>\n",
       "      <td>Diesel</td>\n",
       "    </tr>\n",
       "    <tr>\n",
       "      <th>9</th>\n",
       "      <td>Kia Sorento FWD</td>\n",
       "      <td>Kia</td>\n",
       "      <td>2021</td>\n",
       "      <td>6836000</td>\n",
       "      <td>Automatic</td>\n",
       "      <td>Petrol</td>\n",
       "    </tr>\n",
       "    <tr>\n",
       "      <th>10</th>\n",
       "      <td>Kia Sorento AWD</td>\n",
       "      <td>Kia</td>\n",
       "      <td>2022</td>\n",
       "      <td>7499000</td>\n",
       "      <td>Automatic</td>\n",
       "      <td>Petrol</td>\n",
       "    </tr>\n",
       "    <tr>\n",
       "      <th>11</th>\n",
       "      <td>Suzuki Alto VX</td>\n",
       "      <td>Suzuki</td>\n",
       "      <td>2022</td>\n",
       "      <td>1306000</td>\n",
       "      <td>Automatic</td>\n",
       "      <td>Petrol</td>\n",
       "    </tr>\n",
       "    <tr>\n",
       "      <th>12</th>\n",
       "      <td>Suzuki Alto VXR</td>\n",
       "      <td>Suzuki</td>\n",
       "      <td>2022</td>\n",
       "      <td>1546000</td>\n",
       "      <td>Automatic</td>\n",
       "      <td>Petrol</td>\n",
       "    </tr>\n",
       "    <tr>\n",
       "      <th>13</th>\n",
       "      <td>Suzuki Alto VXL</td>\n",
       "      <td>Suzuki</td>\n",
       "      <td>2022</td>\n",
       "      <td>1747000</td>\n",
       "      <td>Automatic</td>\n",
       "      <td>Petrol</td>\n",
       "    </tr>\n",
       "    <tr>\n",
       "      <th>14</th>\n",
       "      <td>Suzuki Wagon VXR</td>\n",
       "      <td>Suzuki</td>\n",
       "      <td>2022</td>\n",
       "      <td>1877000</td>\n",
       "      <td>Automatic</td>\n",
       "      <td>Petrol</td>\n",
       "    </tr>\n",
       "  </tbody>\n",
       "</table>\n",
       "</div>"
      ],
      "text/plain": [
       "                  name company  year    Price suspension fuel_type\n",
       "0          Kia Picanto     Kia  2022  2186000     Manual    Petrol\n",
       "1          Kia Picanto     Kia  2022  2292000  Automatic    Petrol\n",
       "2        Kia Stonic EX     Kia  2022  3750000  Automatic    Petrol\n",
       "3       Kia Stonic EX+     Kia  2022  3975000  Automatic    Petrol\n",
       "4   Kia Sportage Alpha     Kia  2022  4764000  Automatic    Petrol\n",
       "5     Kia Sportage AWD     Kia  2022  5276000  Automatic    Petrol\n",
       "6     Kia Sportage FWD     Kia  2022  5800000  Automatic    Petrol\n",
       "7     Kia Carnival GLS     Kia  2022  9199000  Automatic    Petrol\n",
       "8    Kia Carnival GLS+     Kia  2022  9999000  Automatic    Diesel\n",
       "9      Kia Sorento FWD     Kia  2021  6836000  Automatic    Petrol\n",
       "10     Kia Sorento AWD     Kia  2022  7499000  Automatic    Petrol\n",
       "11      Suzuki Alto VX  Suzuki  2022  1306000  Automatic    Petrol\n",
       "12     Suzuki Alto VXR  Suzuki  2022  1546000  Automatic    Petrol\n",
       "13     Suzuki Alto VXL  Suzuki  2022  1747000  Automatic    Petrol\n",
       "14    Suzuki Wagon VXR  Suzuki  2022  1877000  Automatic    Petrol"
      ]
     },
     "execution_count": 3,
     "metadata": {},
     "output_type": "execute_result"
    }
   ],
   "source": [
    "car.head(15)"
   ]
  },
  {
   "cell_type": "code",
   "execution_count": 4,
   "id": "2ff0b0d6",
   "metadata": {},
   "outputs": [
    {
     "data": {
      "text/plain": [
       "(138, 6)"
      ]
     },
     "execution_count": 4,
     "metadata": {},
     "output_type": "execute_result"
    }
   ],
   "source": [
    "car.shape"
   ]
  },
  {
   "cell_type": "code",
   "execution_count": 5,
   "id": "8490e798",
   "metadata": {},
   "outputs": [
    {
     "name": "stdout",
     "output_type": "stream",
     "text": [
      "<class 'pandas.core.frame.DataFrame'>\n",
      "RangeIndex: 138 entries, 0 to 137\n",
      "Data columns (total 6 columns):\n",
      " #   Column      Non-Null Count  Dtype \n",
      "---  ------      --------------  ----- \n",
      " 0   name        138 non-null    object\n",
      " 1   company     138 non-null    object\n",
      " 2   year        138 non-null    int64 \n",
      " 3   Price       138 non-null    int64 \n",
      " 4   suspension  138 non-null    object\n",
      " 5   fuel_type   138 non-null    object\n",
      "dtypes: int64(2), object(4)\n",
      "memory usage: 6.6+ KB\n"
     ]
    }
   ],
   "source": [
    "car.info()"
   ]
  },
  {
   "cell_type": "code",
   "execution_count": 6,
   "id": "d4c88e84",
   "metadata": {},
   "outputs": [
    {
     "data": {
      "text/html": [
       "<div>\n",
       "<style scoped>\n",
       "    .dataframe tbody tr th:only-of-type {\n",
       "        vertical-align: middle;\n",
       "    }\n",
       "\n",
       "    .dataframe tbody tr th {\n",
       "        vertical-align: top;\n",
       "    }\n",
       "\n",
       "    .dataframe thead th {\n",
       "        text-align: right;\n",
       "    }\n",
       "</style>\n",
       "<table border=\"1\" class=\"dataframe\">\n",
       "  <thead>\n",
       "    <tr style=\"text-align: right;\">\n",
       "      <th></th>\n",
       "      <th>name</th>\n",
       "      <th>company</th>\n",
       "      <th>year</th>\n",
       "      <th>Price</th>\n",
       "      <th>suspension</th>\n",
       "      <th>fuel_type</th>\n",
       "    </tr>\n",
       "  </thead>\n",
       "  <tbody>\n",
       "    <tr>\n",
       "      <th>count</th>\n",
       "      <td>138</td>\n",
       "      <td>138</td>\n",
       "      <td>138.000000</td>\n",
       "      <td>1.380000e+02</td>\n",
       "      <td>138</td>\n",
       "      <td>138</td>\n",
       "    </tr>\n",
       "    <tr>\n",
       "      <th>unique</th>\n",
       "      <td>84</td>\n",
       "      <td>7</td>\n",
       "      <td>NaN</td>\n",
       "      <td>NaN</td>\n",
       "      <td>3</td>\n",
       "      <td>2</td>\n",
       "    </tr>\n",
       "    <tr>\n",
       "      <th>top</th>\n",
       "      <td>Kia Picanto</td>\n",
       "      <td>Toyota</td>\n",
       "      <td>NaN</td>\n",
       "      <td>NaN</td>\n",
       "      <td>Automatic</td>\n",
       "      <td>Petrol</td>\n",
       "    </tr>\n",
       "    <tr>\n",
       "      <th>freq</th>\n",
       "      <td>4</td>\n",
       "      <td>48</td>\n",
       "      <td>NaN</td>\n",
       "      <td>NaN</td>\n",
       "      <td>124</td>\n",
       "      <td>125</td>\n",
       "    </tr>\n",
       "    <tr>\n",
       "      <th>mean</th>\n",
       "      <td>NaN</td>\n",
       "      <td>NaN</td>\n",
       "      <td>2021.434783</td>\n",
       "      <td>6.763214e+06</td>\n",
       "      <td>NaN</td>\n",
       "      <td>NaN</td>\n",
       "    </tr>\n",
       "    <tr>\n",
       "      <th>std</th>\n",
       "      <td>NaN</td>\n",
       "      <td>NaN</td>\n",
       "      <td>0.497534</td>\n",
       "      <td>9.617879e+06</td>\n",
       "      <td>NaN</td>\n",
       "      <td>NaN</td>\n",
       "    </tr>\n",
       "    <tr>\n",
       "      <th>min</th>\n",
       "      <td>NaN</td>\n",
       "      <td>NaN</td>\n",
       "      <td>2021.000000</td>\n",
       "      <td>1.117000e+06</td>\n",
       "      <td>NaN</td>\n",
       "      <td>NaN</td>\n",
       "    </tr>\n",
       "    <tr>\n",
       "      <th>25%</th>\n",
       "      <td>NaN</td>\n",
       "      <td>NaN</td>\n",
       "      <td>2021.000000</td>\n",
       "      <td>2.566500e+06</td>\n",
       "      <td>NaN</td>\n",
       "      <td>NaN</td>\n",
       "    </tr>\n",
       "    <tr>\n",
       "      <th>50%</th>\n",
       "      <td>NaN</td>\n",
       "      <td>NaN</td>\n",
       "      <td>2021.000000</td>\n",
       "      <td>3.879000e+06</td>\n",
       "      <td>NaN</td>\n",
       "      <td>NaN</td>\n",
       "    </tr>\n",
       "    <tr>\n",
       "      <th>75%</th>\n",
       "      <td>NaN</td>\n",
       "      <td>NaN</td>\n",
       "      <td>2022.000000</td>\n",
       "      <td>6.743250e+06</td>\n",
       "      <td>NaN</td>\n",
       "      <td>NaN</td>\n",
       "    </tr>\n",
       "    <tr>\n",
       "      <th>max</th>\n",
       "      <td>NaN</td>\n",
       "      <td>NaN</td>\n",
       "      <td>2022.000000</td>\n",
       "      <td>5.786500e+07</td>\n",
       "      <td>NaN</td>\n",
       "      <td>NaN</td>\n",
       "    </tr>\n",
       "  </tbody>\n",
       "</table>\n",
       "</div>"
      ],
      "text/plain": [
       "               name company         year         Price suspension fuel_type\n",
       "count           138     138   138.000000  1.380000e+02        138       138\n",
       "unique           84       7          NaN           NaN          3         2\n",
       "top     Kia Picanto  Toyota          NaN           NaN  Automatic    Petrol\n",
       "freq              4      48          NaN           NaN        124       125\n",
       "mean            NaN     NaN  2021.434783  6.763214e+06        NaN       NaN\n",
       "std             NaN     NaN     0.497534  9.617879e+06        NaN       NaN\n",
       "min             NaN     NaN  2021.000000  1.117000e+06        NaN       NaN\n",
       "25%             NaN     NaN  2021.000000  2.566500e+06        NaN       NaN\n",
       "50%             NaN     NaN  2021.000000  3.879000e+06        NaN       NaN\n",
       "75%             NaN     NaN  2022.000000  6.743250e+06        NaN       NaN\n",
       "max             NaN     NaN  2022.000000  5.786500e+07        NaN       NaN"
      ]
     },
     "execution_count": 6,
     "metadata": {},
     "output_type": "execute_result"
    }
   ],
   "source": [
    "car.describe(include='all')"
   ]
  },
  {
   "cell_type": "code",
   "execution_count": 3,
   "id": "8093f3df",
   "metadata": {},
   "outputs": [],
   "source": [
    "car=car[car['Price']<100000000]"
   ]
  },
  {
   "cell_type": "code",
   "execution_count": 8,
   "id": "8911b6a2",
   "metadata": {},
   "outputs": [
    {
     "data": {
      "text/plain": [
       "array(['Kia', 'Suzuki', 'Toyota', 'Changan', 'Proton', 'Hyundai', 'Honda'],\n",
       "      dtype=object)"
      ]
     },
     "execution_count": 8,
     "metadata": {},
     "output_type": "execute_result"
    }
   ],
   "source": [
    "car['company'].unique()"
   ]
  },
  {
   "cell_type": "code",
   "execution_count": 9,
   "id": "664d4b63",
   "metadata": {},
   "outputs": [],
   "source": [
    "import seaborn as sns"
   ]
  },
  {
   "cell_type": "code",
   "execution_count": 10,
   "id": "cf94d16c",
   "metadata": {},
   "outputs": [
    {
     "data": {
      "image/png": "[encoded data removed]",
      "text/plain": [
       "<Figure size 1080x504 with 1 Axes>"
      ]
     },
     "metadata": {},
     "output_type": "display_data"
    }
   ],
   "source": [
    "plt.subplots(figsize=(15,7))\n",
    "ax=sns.boxplot(x='company',y='Price',data=car)\n",
    "ax.set_xticklabels(ax.get_xticklabels(),rotation=40,ha='right')\n",
    "plt.show()"
   ]
  },
  {
   "cell_type": "code",
   "execution_count": 11,
   "id": "500ee653",
   "metadata": {},
   "outputs": [
    {
     "data": {
      "image/png": "[encoded data removed]",
      "text/plain": [
       "<Figure size 1440x720 with 1 Axes>"
      ]
     },
     "metadata": {},
     "output_type": "display_data"
    }
   ],
   "source": [
    "plt.subplots(figsize=(20,10))\n",
    "ax=sns.swarmplot(x='year',y='Price',data=car)\n",
    "ax.set_xticklabels(ax.get_xticklabels(),rotation=40,ha='right')\n",
    "plt.show()"
   ]
  },
  {
   "cell_type": "code",
   "execution_count": 12,
   "id": "81fd1d4c",
   "metadata": {},
   "outputs": [
    {
     "data": {
      "text/plain": [
       "<seaborn.axisgrid.FacetGrid at 0x1fa4f799130>"
      ]
     },
     "execution_count": 12,
     "metadata": {},
     "output_type": "execute_result"
    },
    {
     "data": {
      "image/png": "[encoded data removed]",
      "text/plain": [
       "<Figure size 756x504 with 1 Axes>"
      ]
     },
     "metadata": {},
     "output_type": "display_data"
    }
   ],
   "source": [
    "sns.relplot(x='suspension',y='Price',data=car,height=7,aspect=1.5)"
   ]
  },
  {
   "cell_type": "code",
   "execution_count": 13,
   "id": "d89305e7",
   "metadata": {},
   "outputs": [
    {
     "data": {
      "text/plain": [
       "<AxesSubplot:xlabel='fuel_type', ylabel='Price'>"
      ]
     },
     "execution_count": 13,
     "metadata": {},
     "output_type": "execute_result"
    },
    {
     "data": {
      "image/png": "[encoded data removed]",
      "text/plain": [
       "<Figure size 1008x504 with 1 Axes>"
      ]
     },
     "metadata": {},
     "output_type": "display_data"
    }
   ],
   "source": [
    "plt.subplots(figsize=(14,7))\n",
    "sns.boxplot(x='fuel_type',y='Price',data=car)"
   ]
  },
  {
   "cell_type": "code",
   "execution_count": 14,
   "id": "f5b8870c",
   "metadata": {},
   "outputs": [
    {
     "data": {
      "text/plain": [
       "<seaborn.axisgrid.FacetGrid at 0x1fa50948e80>"
      ]
     },
     "execution_count": 14,
     "metadata": {},
     "output_type": "execute_result"
    },
    {
     "data": {
      "image/png": "[encoded data removed]",
      "text/plain": [
       "<Figure size 1075x504 with 1 Axes>"
      ]
     },
     "metadata": {},
     "output_type": "display_data"
    }
   ],
   "source": [
    "ax=sns.relplot(x='company',y='Price',data=car,hue='fuel_type',size='year',height=7,aspect=2)\n",
    "ax.set_xticklabels(rotation=40,ha='right')"
   ]
  },
  {
   "cell_type": "code",
   "execution_count": 4,
   "id": "87962ecd",
   "metadata": {},
   "outputs": [],
   "source": [
    "X=car[['name','company','year','suspension','fuel_type']]\n",
    "y=car['Price']"
   ]
  },
  {
   "cell_type": "code",
   "execution_count": 16,
   "id": "0a682b88",
   "metadata": {},
   "outputs": [
    {
     "data": {
      "text/html": [
       "<div>\n",
       "<style scoped>\n",
       "    .dataframe tbody tr th:only-of-type {\n",
       "        vertical-align: middle;\n",
       "    }\n",
       "\n",
       "    .dataframe tbody tr th {\n",
       "        vertical-align: top;\n",
       "    }\n",
       "\n",
       "    .dataframe thead th {\n",
       "        text-align: right;\n",
       "    }\n",
       "</style>\n",
       "<table border=\"1\" class=\"dataframe\">\n",
       "  <thead>\n",
       "    <tr style=\"text-align: right;\">\n",
       "      <th></th>\n",
       "      <th>name</th>\n",
       "      <th>company</th>\n",
       "      <th>year</th>\n",
       "      <th>suspension</th>\n",
       "      <th>fuel_type</th>\n",
       "    </tr>\n",
       "  </thead>\n",
       "  <tbody>\n",
       "    <tr>\n",
       "      <th>0</th>\n",
       "      <td>Kia Picanto</td>\n",
       "      <td>Kia</td>\n",
       "      <td>2022</td>\n",
       "      <td>Manual</td>\n",
       "      <td>Petrol</td>\n",
       "    </tr>\n",
       "    <tr>\n",
       "      <th>1</th>\n",
       "      <td>Kia Picanto</td>\n",
       "      <td>Kia</td>\n",
       "      <td>2022</td>\n",
       "      <td>Automatic</td>\n",
       "      <td>Petrol</td>\n",
       "    </tr>\n",
       "    <tr>\n",
       "      <th>2</th>\n",
       "      <td>Kia Stonic EX</td>\n",
       "      <td>Kia</td>\n",
       "      <td>2022</td>\n",
       "      <td>Automatic</td>\n",
       "      <td>Petrol</td>\n",
       "    </tr>\n",
       "    <tr>\n",
       "      <th>3</th>\n",
       "      <td>Kia Stonic EX+</td>\n",
       "      <td>Kia</td>\n",
       "      <td>2022</td>\n",
       "      <td>Automatic</td>\n",
       "      <td>Petrol</td>\n",
       "    </tr>\n",
       "    <tr>\n",
       "      <th>4</th>\n",
       "      <td>Kia Sportage Alpha</td>\n",
       "      <td>Kia</td>\n",
       "      <td>2022</td>\n",
       "      <td>Automatic</td>\n",
       "      <td>Petrol</td>\n",
       "    </tr>\n",
       "    <tr>\n",
       "      <th>...</th>\n",
       "      <td>...</td>\n",
       "      <td>...</td>\n",
       "      <td>...</td>\n",
       "      <td>...</td>\n",
       "      <td>...</td>\n",
       "    </tr>\n",
       "    <tr>\n",
       "      <th>133</th>\n",
       "      <td>Honda City MT</td>\n",
       "      <td>Honda</td>\n",
       "      <td>2021</td>\n",
       "      <td>Automatic</td>\n",
       "      <td>Petrol</td>\n",
       "    </tr>\n",
       "    <tr>\n",
       "      <th>134</th>\n",
       "      <td>Honda City CVT</td>\n",
       "      <td>Honda</td>\n",
       "      <td>2021</td>\n",
       "      <td>Automatic</td>\n",
       "      <td>Petrol</td>\n",
       "    </tr>\n",
       "    <tr>\n",
       "      <th>135</th>\n",
       "      <td>Honda City</td>\n",
       "      <td>Honda</td>\n",
       "      <td>2021</td>\n",
       "      <td>Automatic</td>\n",
       "      <td>Petrol</td>\n",
       "    </tr>\n",
       "    <tr>\n",
       "      <th>136</th>\n",
       "      <td>Honda City Aspire MT</td>\n",
       "      <td>Honda</td>\n",
       "      <td>2021</td>\n",
       "      <td>Automatic</td>\n",
       "      <td>Petrol</td>\n",
       "    </tr>\n",
       "    <tr>\n",
       "      <th>137</th>\n",
       "      <td>Honda Aspire CVT</td>\n",
       "      <td>Honda</td>\n",
       "      <td>2021</td>\n",
       "      <td>Automatic</td>\n",
       "      <td>Petrol</td>\n",
       "    </tr>\n",
       "  </tbody>\n",
       "</table>\n",
       "<p>138 rows × 5 columns</p>\n",
       "</div>"
      ],
      "text/plain": [
       "                     name company  year suspension fuel_type\n",
       "0             Kia Picanto     Kia  2022     Manual    Petrol\n",
       "1             Kia Picanto     Kia  2022  Automatic    Petrol\n",
       "2           Kia Stonic EX     Kia  2022  Automatic    Petrol\n",
       "3          Kia Stonic EX+     Kia  2022  Automatic    Petrol\n",
       "4      Kia Sportage Alpha     Kia  2022  Automatic    Petrol\n",
       "..                    ...     ...   ...        ...       ...\n",
       "133         Honda City MT   Honda  2021  Automatic    Petrol\n",
       "134        Honda City CVT   Honda  2021  Automatic    Petrol\n",
       "135           Honda City    Honda  2021  Automatic    Petrol\n",
       "136  Honda City Aspire MT   Honda  2021  Automatic    Petrol\n",
       "137      Honda Aspire CVT   Honda  2021  Automatic    Petrol\n",
       "\n",
       "[138 rows x 5 columns]"
      ]
     },
     "execution_count": 16,
     "metadata": {},
     "output_type": "execute_result"
    }
   ],
   "source": [
    "X"
   ]
  },
  {
   "cell_type": "code",
   "execution_count": 17,
   "id": "021ee313",
   "metadata": {},
   "outputs": [
    {
     "data": {
      "text/plain": [
       "(138,)"
      ]
     },
     "execution_count": 17,
     "metadata": {},
     "output_type": "execute_result"
    }
   ],
   "source": [
    "y.shape"
   ]
  },
  {
   "cell_type": "code",
   "execution_count": 5,
   "id": "56e7e660",
   "metadata": {},
   "outputs": [],
   "source": [
    "from sklearn.model_selection import train_test_split\n",
    "X_train,X_test,y_train,y_test=train_test_split(X,y,test_size=0.2)"
   ]
  },
  {
   "cell_type": "code",
   "execution_count": 6,
   "id": "786253e4",
   "metadata": {},
   "outputs": [],
   "source": [
    "from sklearn.linear_model import LinearRegression\n",
    "from sklearn.preprocessing import OneHotEncoder\n",
    "from sklearn.compose import make_column_transformer\n",
    "from sklearn.pipeline import make_pipeline\n",
    "from sklearn.metrics import r2_score"
   ]
  },
  {
   "cell_type": "code",
   "execution_count": 7,
   "id": "185ef027",
   "metadata": {},
   "outputs": [
    {
     "data": {
      "text/html": [
       "<style>#sk-container-id-1 {color: black;}#sk-container-id-1 pre{padding: 0;}#sk-container-id-1 div.sk-toggleable {background-color: white;}#sk-container-id-1 label.sk-toggleable__label {cursor: pointer;display: block;width: 100%;margin-bottom: 0;padding: 0.3em;box-sizing: border-box;text-align: center;}#sk-container-id-1 label.sk-toggleable__label-arrow:before {content: \"▸\";float: left;margin-right: 0.25em;color: #696969;}#sk-container-id-1 label.sk-toggleable__label-arrow:hover:before {color: black;}#sk-container-id-1 div.sk-estimator:hover label.sk-toggleable__label-arrow:before {color: black;}#sk-container-id-1 div.sk-toggleable__content {max-height: 0;max-width: 0;overflow: hidden;text-align: left;background-color: #f0f8ff;}#sk-container-id-1 div.sk-toggleable__content pre {margin: 0.2em;color: black;border-radius: 0.25em;background-color: #f0f8ff;}#sk-container-id-1 input.sk-toggleable__control:checked~div.sk-toggleable__content {max-height: 200px;max-width: 100%;overflow: auto;}#sk-container-id-1 input.sk-toggleable__control:checked~label.sk-toggleable__label-arrow:before {content: \"▾\";}#sk-container-id-1 div.sk-estimator input.sk-toggleable__control:checked~label.sk-toggleable__label {background-color: #d4ebff;}#sk-container-id-1 div.sk-label input.sk-toggleable__control:checked~label.sk-toggleable__label {background-color: #d4ebff;}#sk-container-id-1 input.sk-hidden--visually {border: 0;clip: rect(1px 1px 1px 1px);clip: rect(1px, 1px, 1px, 1px);height: 1px;margin: -1px;overflow: hidden;padding: 0;position: absolute;width: 1px;}#sk-container-id-1 div.sk-estimator {font-family: monospace;background-color: #f0f8ff;border: 1px dotted black;border-radius: 0.25em;box-sizing: border-box;margin-bottom: 0.5em;}#sk-container-id-1 div.sk-estimator:hover {background-color: #d4ebff;}#sk-container-id-1 div.sk-parallel-item::after {content: \"\";width: 100%;border-bottom: 1px solid gray;flex-grow: 1;}#sk-container-id-1 div.sk-label:hover label.sk-toggleable__label {background-color: #d4ebff;}#sk-container-id-1 div.sk-serial::before {content: \"\";position: absolute;border-left: 1px solid gray;box-sizing: border-box;top: 0;bottom: 0;left: 50%;z-index: 0;}#sk-container-id-1 div.sk-serial {display: flex;flex-direction: column;align-items: center;background-color: white;padding-right: 0.2em;padding-left: 0.2em;position: relative;}#sk-container-id-1 div.sk-item {position: relative;z-index: 1;}#sk-container-id-1 div.sk-parallel {display: flex;align-items: stretch;justify-content: center;background-color: white;position: relative;}#sk-container-id-1 div.sk-item::before, #sk-container-id-1 div.sk-parallel-item::before {content: \"\";position: absolute;border-left: 1px solid gray;box-sizing: border-box;top: 0;bottom: 0;left: 50%;z-index: -1;}#sk-container-id-1 div.sk-parallel-item {display: flex;flex-direction: column;z-index: 1;position: relative;background-color: white;}#sk-container-id-1 div.sk-parallel-item:first-child::after {align-self: flex-end;width: 50%;}#sk-container-id-1 div.sk-parallel-item:last-child::after {align-self: flex-start;width: 50%;}#sk-container-id-1 div.sk-parallel-item:only-child::after {width: 0;}#sk-container-id-1 div.sk-dashed-wrapped {border: 1px dashed gray;margin: 0 0.4em 0.5em 0.4em;box-sizing: border-box;padding-bottom: 0.4em;background-color: white;}#sk-container-id-1 div.sk-label label {font-family: monospace;font-weight: bold;display: inline-block;line-height: 1.2em;}#sk-container-id-1 div.sk-label-container {text-align: center;}#sk-container-id-1 div.sk-container {/* jupyter's `normalize.less` sets `[hidden] { display: none; }` but bootstrap.min.css set `[hidden] { display: none !important; }` so we also need the `!important` here to be able to override the default hidden behavior on the sphinx rendered scikit-learn.org. See: https://github.com/scikit-learn/scikit-learn/issues/21755 */display: inline-block !important;position: relative;}#sk-container-id-1 div.sk-text-repr-fallback {display: none;}</style><div id=\"sk-container-id-1\" class=\"sk-top-container\"><div class=\"sk-text-repr-fallback\"><pre>OneHotEncoder()</pre><b>In a Jupyter environment, please rerun this cell to show the HTML representation or trust the notebook. <br />On GitHub, the HTML representation is unable to render, please try loading this page with nbviewer.org.</b></div><div class=\"sk-container\" hidden><div class=\"sk-item\"><div class=\"sk-estimator sk-toggleable\"><input class=\"sk-toggleable__control sk-hidden--visually\" id=\"sk-estimator-id-1\" type=\"checkbox\" checked><label for=\"sk-estimator-id-1\" class=\"sk-toggleable__label sk-toggleable__label-arrow\">OneHotEncoder</label><div class=\"sk-toggleable__content\"><pre>OneHotEncoder()</pre></div></div></div></div></div>"
      ],
      "text/plain": [
       "OneHotEncoder()"
      ]
     },
     "execution_count": 7,
     "metadata": {},
     "output_type": "execute_result"
    }
   ],
   "source": [
    "ohe=OneHotEncoder()\n",
    "ohe.fit(X[['name','company','suspension','fuel_type']])"
   ]
  },
  {
   "cell_type": "code",
   "execution_count": 8,
   "id": "11bdb846",
   "metadata": {},
   "outputs": [],
   "source": [
    "column_trans=make_column_transformer((OneHotEncoder(categories=ohe.categories_),['name','company','suspension','fuel_type']),\n",
    "                                    remainder='passthrough')"
   ]
  },
  {
   "cell_type": "code",
   "execution_count": 9,
   "id": "27e22665",
   "metadata": {},
   "outputs": [],
   "source": [
    "lr=LinearRegression()"
   ]
  },
  {
   "cell_type": "code",
   "execution_count": 10,
   "id": "a958570b",
   "metadata": {},
   "outputs": [],
   "source": [
    "pipe=make_pipeline(column_trans,lr)"
   ]
  },
  {
   "cell_type": "code",
   "execution_count": 11,
   "id": "da6ebdc8",
   "metadata": {},
   "outputs": [
    {
     "data": {
      "text/html": [
       "<style>#sk-container-id-2 {color: black;}#sk-container-id-2 pre{padding: 0;}#sk-container-id-2 div.sk-toggleable {background-color: white;}#sk-container-id-2 label.sk-toggleable__label {cursor: pointer;display: block;width: 100%;margin-bottom: 0;padding: 0.3em;box-sizing: border-box;text-align: center;}#sk-container-id-2 label.sk-toggleable__label-arrow:before {content: \"▸\";float: left;margin-right: 0.25em;color: #696969;}#sk-container-id-2 label.sk-toggleable__label-arrow:hover:before {color: black;}#sk-container-id-2 div.sk-estimator:hover label.sk-toggleable__label-arrow:before {color: black;}#sk-container-id-2 div.sk-toggleable__content {max-height: 0;max-width: 0;overflow: hidden;text-align: left;background-color: #f0f8ff;}#sk-container-id-2 div.sk-toggleable__content pre {margin: 0.2em;color: black;border-radius: 0.25em;background-color: #f0f8ff;}#sk-container-id-2 input.sk-toggleable__control:checked~div.sk-toggleable__content {max-height: 200px;max-width: 100%;overflow: auto;}#sk-container-id-2 input.sk-toggleable__control:checked~label.sk-toggleable__label-arrow:before {content: \"▾\";}#sk-container-id-2 div.sk-estimator input.sk-toggleable__control:checked~label.sk-toggleable__label {background-color: #d4ebff;}#sk-container-id-2 div.sk-label input.sk-toggleable__control:checked~label.sk-toggleable__label {background-color: #d4ebff;}#sk-container-id-2 input.sk-hidden--visually {border: 0;clip: rect(1px 1px 1px 1px);clip: rect(1px, 1px, 1px, 1px);height: 1px;margin: -1px;overflow: hidden;padding: 0;position: absolute;width: 1px;}#sk-container-id-2 div.sk-estimator {font-family: monospace;background-color: #f0f8ff;border: 1px dotted black;border-radius: 0.25em;box-sizing: border-box;margin-bottom: 0.5em;}#sk-container-id-2 div.sk-estimator:hover {background-color: #d4ebff;}#sk-container-id-2 div.sk-parallel-item::after {content: \"\";width: 100%;border-bottom: 1px solid gray;flex-grow: 1;}#sk-container-id-2 div.sk-label:hover label.sk-toggleable__label {background-color: #d4ebff;}#sk-container-id-2 div.sk-serial::before {content: \"\";position: absolute;border-left: 1px solid gray;box-sizing: border-box;top: 0;bottom: 0;left: 50%;z-index: 0;}#sk-container-id-2 div.sk-serial {display: flex;flex-direction: column;align-items: center;background-color: white;padding-right: 0.2em;padding-left: 0.2em;position: relative;}#sk-container-id-2 div.sk-item {position: relative;z-index: 1;}#sk-container-id-2 div.sk-parallel {display: flex;align-items: stretch;justify-content: center;background-color: white;position: relative;}#sk-container-id-2 div.sk-item::before, #sk-container-id-2 div.sk-parallel-item::before {content: \"\";position: absolute;border-left: 1px solid gray;box-sizing: border-box;top: 0;bottom: 0;left: 50%;z-index: -1;}#sk-container-id-2 div.sk-parallel-item {display: flex;flex-direction: column;z-index: 1;position: relative;background-color: white;}#sk-container-id-2 div.sk-parallel-item:first-child::after {align-self: flex-end;width: 50%;}#sk-container-id-2 div.sk-parallel-item:last-child::after {align-self: flex-start;width: 50%;}#sk-container-id-2 div.sk-parallel-item:only-child::after {width: 0;}#sk-container-id-2 div.sk-dashed-wrapped {border: 1px dashed gray;margin: 0 0.4em 0.5em 0.4em;box-sizing: border-box;padding-bottom: 0.4em;background-color: white;}#sk-container-id-2 div.sk-label label {font-family: monospace;font-weight: bold;display: inline-block;line-height: 1.2em;}#sk-container-id-2 div.sk-label-container {text-align: center;}#sk-container-id-2 div.sk-container {/* jupyter's `normalize.less` sets `[hidden] { display: none; }` but bootstrap.min.css set `[hidden] { display: none !important; }` so we also need the `!important` here to be able to override the default hidden behavior on the sphinx rendered scikit-learn.org. See: https://github.com/scikit-learn/scikit-learn/issues/21755 */display: inline-block !important;position: relative;}#sk-container-id-2 div.sk-text-repr-fallback {display: none;}</style><div id=\"sk-container-id-2\" class=\"sk-top-container\"><div class=\"sk-text-repr-fallback\"><pre>Pipeline(steps=[(&#x27;columntransformer&#x27;,\n",
       "                 ColumnTransformer(remainder=&#x27;passthrough&#x27;,\n",
       "                                   transformers=[(&#x27;onehotencoder&#x27;,\n",
       "                                                  OneHotEncoder(categories=[array([&#x27;Changan Alsvin Comfort&#x27;, &#x27;Changan Alsvin Lumiere&#x27;,\n",
       "       &#x27;Changan Karvaan&#x27;, &#x27;Changan Karvaan Plus&#x27;, &#x27;Honda Accord Turbo&#x27;,\n",
       "       &#x27;Honda Aspire CVT&#x27;, &#x27;Honda BRV S&#x27;, &#x27;Honda City &#x27;,\n",
       "       &#x27;Honda City Aspire MT&#x27;, &#x27;Honda City CVT&#x27;, &#x27;Honda City MT&#x27;,\n",
       "       &#x27;Honda Civic CVT...\n",
       "       &#x27;Toyota Yaris ATIV CVT&#x27;, &#x27;Toyota Yaris ATIV M/T&#x27;,\n",
       "       &#x27;Toyota Yaris ATIV X&#x27;, &#x27;Toyota Yaris GLI CVT&#x27;,\n",
       "       &#x27;Toyota Yaris GLI M/T&#x27;], dtype=object),\n",
       "                                                                            array([&#x27;Changan&#x27;, &#x27;Honda&#x27;, &#x27;Hyundai&#x27;, &#x27;Kia&#x27;, &#x27;Proton&#x27;, &#x27;Suzuki&#x27;, &#x27;Toyota&#x27;],\n",
       "      dtype=object),\n",
       "                                                                            array([&#x27;Automatic&#x27;, &#x27;Hybrid&#x27;, &#x27;Manual&#x27;], dtype=object),\n",
       "                                                                            array([&#x27;Diesel&#x27;, &#x27;Petrol&#x27;], dtype=object)]),\n",
       "                                                  [&#x27;name&#x27;, &#x27;company&#x27;,\n",
       "                                                   &#x27;suspension&#x27;,\n",
       "                                                   &#x27;fuel_type&#x27;])])),\n",
       "                (&#x27;linearregression&#x27;, LinearRegression())])</pre><b>In a Jupyter environment, please rerun this cell to show the HTML representation or trust the notebook. <br />On GitHub, the HTML representation is unable to render, please try loading this page with nbviewer.org.</b></div><div class=\"sk-container\" hidden><div class=\"sk-item sk-dashed-wrapped\"><div class=\"sk-label-container\"><div class=\"sk-label sk-toggleable\"><input class=\"sk-toggleable__control sk-hidden--visually\" id=\"sk-estimator-id-2\" type=\"checkbox\" ><label for=\"sk-estimator-id-2\" class=\"sk-toggleable__label sk-toggleable__label-arrow\">Pipeline</label><div class=\"sk-toggleable__content\"><pre>Pipeline(steps=[(&#x27;columntransformer&#x27;,\n",
       "                 ColumnTransformer(remainder=&#x27;passthrough&#x27;,\n",
       "                                   transformers=[(&#x27;onehotencoder&#x27;,\n",
       "                                                  OneHotEncoder(categories=[array([&#x27;Changan Alsvin Comfort&#x27;, &#x27;Changan Alsvin Lumiere&#x27;,\n",
       "       &#x27;Changan Karvaan&#x27;, &#x27;Changan Karvaan Plus&#x27;, &#x27;Honda Accord Turbo&#x27;,\n",
       "       &#x27;Honda Aspire CVT&#x27;, &#x27;Honda BRV S&#x27;, &#x27;Honda City &#x27;,\n",
       "       &#x27;Honda City Aspire MT&#x27;, &#x27;Honda City CVT&#x27;, &#x27;Honda City MT&#x27;,\n",
       "       &#x27;Honda Civic CVT...\n",
       "       &#x27;Toyota Yaris ATIV CVT&#x27;, &#x27;Toyota Yaris ATIV M/T&#x27;,\n",
       "       &#x27;Toyota Yaris ATIV X&#x27;, &#x27;Toyota Yaris GLI CVT&#x27;,\n",
       "       &#x27;Toyota Yaris GLI M/T&#x27;], dtype=object),\n",
       "                                                                            array([&#x27;Changan&#x27;, &#x27;Honda&#x27;, &#x27;Hyundai&#x27;, &#x27;Kia&#x27;, &#x27;Proton&#x27;, &#x27;Suzuki&#x27;, &#x27;Toyota&#x27;],\n",
       "      dtype=object),\n",
       "                                                                            array([&#x27;Automatic&#x27;, &#x27;Hybrid&#x27;, &#x27;Manual&#x27;], dtype=object),\n",
       "                                                                            array([&#x27;Diesel&#x27;, &#x27;Petrol&#x27;], dtype=object)]),\n",
       "                                                  [&#x27;name&#x27;, &#x27;company&#x27;,\n",
       "                                                   &#x27;suspension&#x27;,\n",
       "                                                   &#x27;fuel_type&#x27;])])),\n",
       "                (&#x27;linearregression&#x27;, LinearRegression())])</pre></div></div></div><div class=\"sk-serial\"><div class=\"sk-item sk-dashed-wrapped\"><div class=\"sk-label-container\"><div class=\"sk-label sk-toggleable\"><input class=\"sk-toggleable__control sk-hidden--visually\" id=\"sk-estimator-id-3\" type=\"checkbox\" ><label for=\"sk-estimator-id-3\" class=\"sk-toggleable__label sk-toggleable__label-arrow\">columntransformer: ColumnTransformer</label><div class=\"sk-toggleable__content\"><pre>ColumnTransformer(remainder=&#x27;passthrough&#x27;,\n",
       "                  transformers=[(&#x27;onehotencoder&#x27;,\n",
       "                                 OneHotEncoder(categories=[array([&#x27;Changan Alsvin Comfort&#x27;, &#x27;Changan Alsvin Lumiere&#x27;,\n",
       "       &#x27;Changan Karvaan&#x27;, &#x27;Changan Karvaan Plus&#x27;, &#x27;Honda Accord Turbo&#x27;,\n",
       "       &#x27;Honda Aspire CVT&#x27;, &#x27;Honda BRV S&#x27;, &#x27;Honda City &#x27;,\n",
       "       &#x27;Honda City Aspire MT&#x27;, &#x27;Honda City CVT&#x27;, &#x27;Honda City MT&#x27;,\n",
       "       &#x27;Honda Civic CVT&#x27;, &#x27;Honda Civic Oriel&#x27;, &#x27;Honda Civic Turbo&#x27;...\n",
       "       &#x27;Toyota Single Cabin Standard&#x27;, &#x27;Toyota Single Cabin UP&#x27;,\n",
       "       &#x27;Toyota Yaris ATIV CVT&#x27;, &#x27;Toyota Yaris ATIV M/T&#x27;,\n",
       "       &#x27;Toyota Yaris ATIV X&#x27;, &#x27;Toyota Yaris GLI CVT&#x27;,\n",
       "       &#x27;Toyota Yaris GLI M/T&#x27;], dtype=object),\n",
       "                                                           array([&#x27;Changan&#x27;, &#x27;Honda&#x27;, &#x27;Hyundai&#x27;, &#x27;Kia&#x27;, &#x27;Proton&#x27;, &#x27;Suzuki&#x27;, &#x27;Toyota&#x27;],\n",
       "      dtype=object),\n",
       "                                                           array([&#x27;Automatic&#x27;, &#x27;Hybrid&#x27;, &#x27;Manual&#x27;], dtype=object),\n",
       "                                                           array([&#x27;Diesel&#x27;, &#x27;Petrol&#x27;], dtype=object)]),\n",
       "                                 [&#x27;name&#x27;, &#x27;company&#x27;, &#x27;suspension&#x27;,\n",
       "                                  &#x27;fuel_type&#x27;])])</pre></div></div></div><div class=\"sk-parallel\"><div class=\"sk-parallel-item\"><div class=\"sk-item\"><div class=\"sk-label-container\"><div class=\"sk-label sk-toggleable\"><input class=\"sk-toggleable__control sk-hidden--visually\" id=\"sk-estimator-id-4\" type=\"checkbox\" ><label for=\"sk-estimator-id-4\" class=\"sk-toggleable__label sk-toggleable__label-arrow\">onehotencoder</label><div class=\"sk-toggleable__content\"><pre>[&#x27;name&#x27;, &#x27;company&#x27;, &#x27;suspension&#x27;, &#x27;fuel_type&#x27;]</pre></div></div></div><div class=\"sk-serial\"><div class=\"sk-item\"><div class=\"sk-estimator sk-toggleable\"><input class=\"sk-toggleable__control sk-hidden--visually\" id=\"sk-estimator-id-5\" type=\"checkbox\" ><label for=\"sk-estimator-id-5\" class=\"sk-toggleable__label sk-toggleable__label-arrow\">OneHotEncoder</label><div class=\"sk-toggleable__content\"><pre>OneHotEncoder(categories=[array([&#x27;Changan Alsvin Comfort&#x27;, &#x27;Changan Alsvin Lumiere&#x27;,\n",
       "       &#x27;Changan Karvaan&#x27;, &#x27;Changan Karvaan Plus&#x27;, &#x27;Honda Accord Turbo&#x27;,\n",
       "       &#x27;Honda Aspire CVT&#x27;, &#x27;Honda BRV S&#x27;, &#x27;Honda City &#x27;,\n",
       "       &#x27;Honda City Aspire MT&#x27;, &#x27;Honda City CVT&#x27;, &#x27;Honda City MT&#x27;,\n",
       "       &#x27;Honda Civic CVT&#x27;, &#x27;Honda Civic Oriel&#x27;, &#x27;Honda Civic Turbo&#x27;,\n",
       "       &#x27;Hyundai Elentra GLS&#x27;, &#x27;Hyundai Grand Starex GL&#x27;,\n",
       "       &#x27;Hyundai Grand Starex GLS&#x27;, &#x27;Hyun...\n",
       "       &#x27;Toyota Rush M/T&#x27;, &#x27;Toyota Single Cabin STD&#x27;,\n",
       "       &#x27;Toyota Single Cabin Standard&#x27;, &#x27;Toyota Single Cabin UP&#x27;,\n",
       "       &#x27;Toyota Yaris ATIV CVT&#x27;, &#x27;Toyota Yaris ATIV M/T&#x27;,\n",
       "       &#x27;Toyota Yaris ATIV X&#x27;, &#x27;Toyota Yaris GLI CVT&#x27;,\n",
       "       &#x27;Toyota Yaris GLI M/T&#x27;], dtype=object),\n",
       "                          array([&#x27;Changan&#x27;, &#x27;Honda&#x27;, &#x27;Hyundai&#x27;, &#x27;Kia&#x27;, &#x27;Proton&#x27;, &#x27;Suzuki&#x27;, &#x27;Toyota&#x27;],\n",
       "      dtype=object),\n",
       "                          array([&#x27;Automatic&#x27;, &#x27;Hybrid&#x27;, &#x27;Manual&#x27;], dtype=object),\n",
       "                          array([&#x27;Diesel&#x27;, &#x27;Petrol&#x27;], dtype=object)])</pre></div></div></div></div></div></div><div class=\"sk-parallel-item\"><div class=\"sk-item\"><div class=\"sk-label-container\"><div class=\"sk-label sk-toggleable\"><input class=\"sk-toggleable__control sk-hidden--visually\" id=\"sk-estimator-id-6\" type=\"checkbox\" ><label for=\"sk-estimator-id-6\" class=\"sk-toggleable__label sk-toggleable__label-arrow\">remainder</label><div class=\"sk-toggleable__content\"><pre>[&#x27;year&#x27;]</pre></div></div></div><div class=\"sk-serial\"><div class=\"sk-item\"><div class=\"sk-estimator sk-toggleable\"><input class=\"sk-toggleable__control sk-hidden--visually\" id=\"sk-estimator-id-7\" type=\"checkbox\" ><label for=\"sk-estimator-id-7\" class=\"sk-toggleable__label sk-toggleable__label-arrow\">passthrough</label><div class=\"sk-toggleable__content\"><pre>passthrough</pre></div></div></div></div></div></div></div></div><div class=\"sk-item\"><div class=\"sk-estimator sk-toggleable\"><input class=\"sk-toggleable__control sk-hidden--visually\" id=\"sk-estimator-id-8\" type=\"checkbox\" ><label for=\"sk-estimator-id-8\" class=\"sk-toggleable__label sk-toggleable__label-arrow\">LinearRegression</label><div class=\"sk-toggleable__content\"><pre>LinearRegression()</pre></div></div></div></div></div></div></div>"
      ],
      "text/plain": [
       "Pipeline(steps=[('columntransformer',\n",
       "                 ColumnTransformer(remainder='passthrough',\n",
       "                                   transformers=[('onehotencoder',\n",
       "                                                  OneHotEncoder(categories=[array(['Changan Alsvin Comfort', 'Changan Alsvin Lumiere',\n",
       "       'Changan Karvaan', 'Changan Karvaan Plus', 'Honda Accord Turbo',\n",
       "       'Honda Aspire CVT', 'Honda BRV S', 'Honda City ',\n",
       "       'Honda City Aspire MT', 'Honda City CVT', 'Honda City MT',\n",
       "       'Honda Civic CVT...\n",
       "       'Toyota Yaris ATIV CVT', 'Toyota Yaris ATIV M/T',\n",
       "       'Toyota Yaris ATIV X', 'Toyota Yaris GLI CVT',\n",
       "       'Toyota Yaris GLI M/T'], dtype=object),\n",
       "                                                                            array(['Changan', 'Honda', 'Hyundai', 'Kia', 'Proton', 'Suzuki', 'Toyota'],\n",
       "      dtype=object),\n",
       "                                                                            array(['Automatic', 'Hybrid', 'Manual'], dtype=object),\n",
       "                                                                            array(['Diesel', 'Petrol'], dtype=object)]),\n",
       "                                                  ['name', 'company',\n",
       "                                                   'suspension',\n",
       "                                                   'fuel_type'])])),\n",
       "                ('linearregression', LinearRegression())])"
      ]
     },
     "execution_count": 11,
     "metadata": {},
     "output_type": "execute_result"
    }
   ],
   "source": [
    "pipe.fit(X_train,y_train)"
   ]
  },
  {
   "cell_type": "code",
   "execution_count": 12,
   "id": "79084601",
   "metadata": {},
   "outputs": [],
   "source": [
    "y_pred=pipe.predict(X_test)"
   ]
  },
  {
   "cell_type": "code",
   "execution_count": 13,
   "id": "b9c10594",
   "metadata": {},
   "outputs": [
    {
     "data": {
      "text/plain": [
       "0.40155000007327835"
      ]
     },
     "execution_count": 13,
     "metadata": {},
     "output_type": "execute_result"
    }
   ],
   "source": [
    "r2_score(y_test,y_pred)"
   ]
  },
  {
   "cell_type": "code",
   "execution_count": 14,
   "id": "e27c4e42",
   "metadata": {},
   "outputs": [],
   "source": [
    "scores=[]\n",
    "for i in range(175):\n",
    "    X_train,X_test,y_train,y_test=train_test_split(X,y,test_size=0.2,random_state=i)\n",
    "    lr=LinearRegression()\n",
    "    pipe=make_pipeline(column_trans,lr)\n",
    "    pipe.fit(X_train,y_train)\n",
    "    y_pred=pipe.predict(X_test)\n",
    "    scores.append(r2_score(y_test,y_pred))"
   ]
  },
  {
   "cell_type": "code",
   "execution_count": 15,
   "id": "bb62e39c",
   "metadata": {},
   "outputs": [
    {
     "data": {
      "text/plain": [
       "117"
      ]
     },
     "execution_count": 15,
     "metadata": {},
     "output_type": "execute_result"
    }
   ],
   "source": [
    "np.argmax(scores)"
   ]
  },
  {
   "cell_type": "code",
   "execution_count": 16,
   "id": "d51a5574",
   "metadata": {},
   "outputs": [
    {
     "data": {
      "text/plain": [
       "0.9857134080385626"
      ]
     },
     "execution_count": 16,
     "metadata": {},
     "output_type": "execute_result"
    }
   ],
   "source": [
    "scores[np.argmax(scores)]"
   ]
  },
  {
   "cell_type": "code",
   "execution_count": 17,
   "id": "2c66948b",
   "metadata": {},
   "outputs": [
    {
     "data": {
      "text/plain": [
       "array([3939037.82672644])"
      ]
     },
     "execution_count": 17,
     "metadata": {},
     "output_type": "execute_result"
    }
   ],
   "source": [
    "pipe.predict(pd.DataFrame(columns=X_test.columns,data=np.array(['Kia Picanto','Kia',2021,'Manual','Petrol']).reshape(1,5)))"
   ]
  },
  {
   "cell_type": "code",
   "execution_count": 18,
   "id": "95ba7c7f",
   "metadata": {},
   "outputs": [
    {
     "data": {
      "text/plain": [
       "0.9857134080385626"
      ]
     },
     "execution_count": 18,
     "metadata": {},
     "output_type": "execute_result"
    }
   ],
   "source": [
    "X_train,X_test,y_train,y_test=train_test_split(X,y,test_size=0.2,random_state=np.argmax(scores))\n",
    "lr=LinearRegression()\n",
    "pipe=make_pipeline(column_trans,lr)\n",
    "pipe.fit(X_train,y_train)\n",
    "y_pred=pipe.predict(X_test)\n",
    "r2_score(y_test,y_pred)"
   ]
  },
  {
   "cell_type": "code",
   "execution_count": 19,
   "id": "b19630ee",
   "metadata": {},
   "outputs": [],
   "source": [
    "import pickle"
   ]
  },
  {
   "cell_type": "code",
   "execution_count": 20,
   "id": "14c3129e",
   "metadata": {},
   "outputs": [],
   "source": [
    "pickle.dump(pipe,open('LinearRegressionModel333.pkl','wb'))"
   ]
  },
  {
   "cell_type": "code",
   "execution_count": 21,
   "id": "d034b3dd",
   "metadata": {},
   "outputs": [
    {
     "data": {
      "text/plain": [
       "array([4289493.29584312])"
      ]
     },
     "execution_count": 21,
     "metadata": {},
     "output_type": "execute_result"
    }
   ],
   "source": [
    "pipe.predict(pd.DataFrame(columns=X_test.columns,data=np.array(['Kia Picanto','Kia',2021,'Manual','Petrol']).reshape(1,5)))"
   ]
  },
  {
   "cell_type": "code",
   "execution_count": 22,
   "id": "75d5c302",
   "metadata": {},
   "outputs": [
    {
     "data": {
      "text/plain": [
       "array(['Changan Alsvin Comfort', 'Changan Alsvin Lumiere',\n",
       "       'Changan Karvaan', 'Changan Karvaan Plus', 'Honda Accord Turbo',\n",
       "       'Honda Aspire CVT', 'Honda BRV S', 'Honda City ',\n",
       "       'Honda City Aspire MT', 'Honda City CVT', 'Honda City MT',\n",
       "       'Honda Civic CVT', 'Honda Civic Oriel', 'Honda Civic Turbo',\n",
       "       'Hyundai Elentra GLS', 'Hyundai Grand Starex GL',\n",
       "       'Hyundai Grand Starex GLS', 'Hyundai Porter H100',\n",
       "       'Hyundai Sonata 2.0', 'Hyundai Sonata 2.5', 'Hyundai Tuscon AWD',\n",
       "       'Hyundai Tuscon FWD', 'Kia Carnival GLS', 'Kia Carnival GLS+',\n",
       "       'Kia Picanto', 'Kia Sorento AWD', 'Kia Sorento FWD',\n",
       "       'Kia Sportage AWD', 'Kia Sportage Alpha', 'Kia Sportage FWD',\n",
       "       'Kia Stonic EX', 'Kia Stonic EX+', 'Proton Saga ACE',\n",
       "       'Proton Saga AT', 'Proton Saga MT', 'Suzuki APV 1.5L',\n",
       "       'Suzuki Alto VX', 'Suzuki Alto VXL', 'Suzuki Alto VXR',\n",
       "       'Suzuki Bolan', 'Suzuki Cultus AGS', 'Suzuki Cultus VXL',\n",
       "       'Suzuki Cultus VXR', 'Suzuki Jimny GA', 'Suzuki Ravi',\n",
       "       'Suzuki Swift GL', 'Suzuki Swift GLX', 'Suzuki Vitara GLX',\n",
       "       'Suzuki Wagon AGS', 'Suzuki Wagon VXL', 'Suzuki Wagon VXR',\n",
       "       'Toyota Avanza', 'Toyota Camry', 'Toyota Corolla Altis AT',\n",
       "       'Toyota Corolla Altis CVT', 'Toyota Corolla Altis Grande',\n",
       "       'Toyota Corolla Altis MT', 'Toyota Corolla Cross',\n",
       "       'Toyota Corolla Cross Smart', 'Toyota Fortuner HI',\n",
       "       'Toyota Fortuner Legender', 'Toyota Fortuner STD',\n",
       "       'Toyota Fortuner Sigma', 'Toyota Hilux Revo DC',\n",
       "       'Toyota Hilux Revo G', 'Toyota Hilux Revo G A/T',\n",
       "       'Toyota Hilux Revo Rocco', 'Toyota Land Cruiser A/T',\n",
       "       'Toyota Land Cruiser GX', 'Toyota Land Cruiser M/T',\n",
       "       'Toyota Land Cruiser Prado', 'Toyota Land Cruiser VX',\n",
       "       'Toyota Land Cruiser VXR', 'Toyota Prius', 'Toyota Rush A/T',\n",
       "       'Toyota Rush M/T', 'Toyota Single Cabin STD',\n",
       "       'Toyota Single Cabin Standard', 'Toyota Single Cabin UP',\n",
       "       'Toyota Yaris ATIV CVT', 'Toyota Yaris ATIV M/T',\n",
       "       'Toyota Yaris ATIV X', 'Toyota Yaris GLI CVT',\n",
       "       'Toyota Yaris GLI M/T'], dtype=object)"
      ]
     },
     "execution_count": 22,
     "metadata": {},
     "output_type": "execute_result"
    }
   ],
   "source": [
    "pipe.steps[0][1].transformers[0][1].categories[0]"
   ]
  },
  {
   "cell_type": "code",
   "execution_count": null,
   "id": "573a7bcf",
   "metadata": {},
   "outputs": [],
   "source": []
  }
 ],
 "metadata": {
  "kernelspec": {
   "display_name": "Python 3 (ipykernel)",
   "language": "python",
   "name": "python3"
  },
  "language_info": {
   "codemirror_mode": {
    "name": "ipython",
    "version": 3
   },
   "file_extension": ".py",
   "mimetype": "text/x-python",
   "name": "python",
   "nbconvert_exporter": "python",
   "pygments_lexer": "ipython3",
   "version": "3.9.2"
  }
 },
 "nbformat": 4,
 "nbformat_minor": 5
}
